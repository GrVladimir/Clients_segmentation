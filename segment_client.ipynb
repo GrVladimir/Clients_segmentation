{
 "cells": [
  {
   "cell_type": "code",
   "execution_count": 1,
   "metadata": {},
   "outputs": [],
   "source": [
    "import pandas as pd\n",
    "import numpy as np\n",
    "pd.plotting.register_matplotlib_converters()\n",
    "import matplotlib.pyplot as plt\n",
    "%matplotlib inline\n",
    "import seaborn as sns"
   ]
  },
  {
   "cell_type": "code",
   "execution_count": 2,
   "metadata": {},
   "outputs": [],
   "source": [
    "sns.set(rc={'figure.figsize': (12,7)})"
   ]
  },
  {
   "cell_type": "code",
   "execution_count": 3,
   "metadata": {},
   "outputs": [],
   "source": [
    "df=pd.read_excel(r'C:\\work\\for_clustering.xlsx') "
   ]
  },
  {
   "cell_type": "code",
   "execution_count": 4,
   "metadata": {},
   "outputs": [
    {
     "data": {
      "text/html": [
       "<div>\n",
       "<style scoped>\n",
       "    .dataframe tbody tr th:only-of-type {\n",
       "        vertical-align: middle;\n",
       "    }\n",
       "\n",
       "    .dataframe tbody tr th {\n",
       "        vertical-align: top;\n",
       "    }\n",
       "\n",
       "    .dataframe thead th {\n",
       "        text-align: right;\n",
       "    }\n",
       "</style>\n",
       "<table border=\"1\" class=\"dataframe\">\n",
       "  <thead>\n",
       "    <tr style=\"text-align: right;\">\n",
       "      <th></th>\n",
       "      <th>Id_client</th>\n",
       "      <th>InWeek_amount</th>\n",
       "      <th>InWeek_SKU</th>\n",
       "      <th>Checkinmonth_average</th>\n",
       "      <th>Checkamount_mean</th>\n",
       "      <th>Count_transac</th>\n",
       "      <th>Total_amount</th>\n",
       "      <th>Total_SKU_qnt</th>\n",
       "      <th>Count_departments</th>\n",
       "      <th>Count_shop</th>\n",
       "      <th>...</th>\n",
       "      <th>Cat_babyprod_share</th>\n",
       "      <th>Communication_3month</th>\n",
       "      <th>Response_communcation</th>\n",
       "      <th>SKU_LastMonthqnt</th>\n",
       "      <th>Checks_LastMonthqnt</th>\n",
       "      <th>Amount_LastMonth</th>\n",
       "      <th>Discount</th>\n",
       "      <th>Discount_LastMonth</th>\n",
       "      <th>_SEGMENT_</th>\n",
       "      <th>EM_SEGMENT</th>\n",
       "    </tr>\n",
       "  </thead>\n",
       "  <tbody>\n",
       "    <tr>\n",
       "      <th>0</th>\n",
       "      <td>5743</td>\n",
       "      <td>269.5328</td>\n",
       "      <td>46</td>\n",
       "      <td>2</td>\n",
       "      <td>102.9252</td>\n",
       "      <td>119</td>\n",
       "      <td>12398.51</td>\n",
       "      <td>1114</td>\n",
       "      <td>26</td>\n",
       "      <td>4</td>\n",
       "      <td>...</td>\n",
       "      <td>0.081007</td>\n",
       "      <td>1</td>\n",
       "      <td>1</td>\n",
       "      <td>60</td>\n",
       "      <td>12</td>\n",
       "      <td>963.01</td>\n",
       "      <td>1</td>\n",
       "      <td>1</td>\n",
       "      <td>2</td>\n",
       "      <td>2</td>\n",
       "    </tr>\n",
       "    <tr>\n",
       "      <th>1</th>\n",
       "      <td>5756</td>\n",
       "      <td>359.9902</td>\n",
       "      <td>36</td>\n",
       "      <td>4</td>\n",
       "      <td>100.2813</td>\n",
       "      <td>130</td>\n",
       "      <td>12959.65</td>\n",
       "      <td>1024</td>\n",
       "      <td>29</td>\n",
       "      <td>3</td>\n",
       "      <td>...</td>\n",
       "      <td>0.036766</td>\n",
       "      <td>1</td>\n",
       "      <td>0</td>\n",
       "      <td>91</td>\n",
       "      <td>15</td>\n",
       "      <td>1534.69</td>\n",
       "      <td>1</td>\n",
       "      <td>1</td>\n",
       "      <td>2</td>\n",
       "      <td>2</td>\n",
       "    </tr>\n",
       "    <tr>\n",
       "      <th>2</th>\n",
       "      <td>5781</td>\n",
       "      <td>329.3200</td>\n",
       "      <td>9</td>\n",
       "      <td>4</td>\n",
       "      <td>102.2027</td>\n",
       "      <td>29</td>\n",
       "      <td>2963.88</td>\n",
       "      <td>170</td>\n",
       "      <td>24</td>\n",
       "      <td>1</td>\n",
       "      <td>...</td>\n",
       "      <td>0.112974</td>\n",
       "      <td>1</td>\n",
       "      <td>1</td>\n",
       "      <td>13</td>\n",
       "      <td>2</td>\n",
       "      <td>1514.48</td>\n",
       "      <td>1</td>\n",
       "      <td>1</td>\n",
       "      <td>3</td>\n",
       "      <td>3</td>\n",
       "    </tr>\n",
       "    <tr>\n",
       "      <th>3</th>\n",
       "      <td>5801</td>\n",
       "      <td>385.8105</td>\n",
       "      <td>51</td>\n",
       "      <td>8</td>\n",
       "      <td>48.8550</td>\n",
       "      <td>404</td>\n",
       "      <td>19676.34</td>\n",
       "      <td>2486</td>\n",
       "      <td>33</td>\n",
       "      <td>3</td>\n",
       "      <td>...</td>\n",
       "      <td>0.027406</td>\n",
       "      <td>1</td>\n",
       "      <td>0</td>\n",
       "      <td>68</td>\n",
       "      <td>35</td>\n",
       "      <td>1872.24</td>\n",
       "      <td>1</td>\n",
       "      <td>1</td>\n",
       "      <td>2</td>\n",
       "      <td>2</td>\n",
       "    </tr>\n",
       "    <tr>\n",
       "      <th>4</th>\n",
       "      <td>5808</td>\n",
       "      <td>310.2800</td>\n",
       "      <td>8</td>\n",
       "      <td>4</td>\n",
       "      <td>108.5789</td>\n",
       "      <td>25</td>\n",
       "      <td>2482.24</td>\n",
       "      <td>255</td>\n",
       "      <td>26</td>\n",
       "      <td>2</td>\n",
       "      <td>...</td>\n",
       "      <td>0.042788</td>\n",
       "      <td>1</td>\n",
       "      <td>1</td>\n",
       "      <td>22</td>\n",
       "      <td>3</td>\n",
       "      <td>557.97</td>\n",
       "      <td>1</td>\n",
       "      <td>1</td>\n",
       "      <td>1</td>\n",
       "      <td>1</td>\n",
       "    </tr>\n",
       "  </tbody>\n",
       "</table>\n",
       "<p>5 rows × 45 columns</p>\n",
       "</div>"
      ],
      "text/plain": [
       "   Id_client  InWeek_amount  InWeek_SKU  Checkinmonth_average  \\\n",
       "0       5743       269.5328          46                     2   \n",
       "1       5756       359.9902          36                     4   \n",
       "2       5781       329.3200           9                     4   \n",
       "3       5801       385.8105          51                     8   \n",
       "4       5808       310.2800           8                     4   \n",
       "\n",
       "   Checkamount_mean  Count_transac  Total_amount  Total_SKU_qnt  \\\n",
       "0          102.9252            119      12398.51           1114   \n",
       "1          100.2813            130      12959.65           1024   \n",
       "2          102.2027             29       2963.88            170   \n",
       "3           48.8550            404      19676.34           2486   \n",
       "4          108.5789             25       2482.24            255   \n",
       "\n",
       "   Count_departments  Count_shop  ...  Cat_babyprod_share  \\\n",
       "0                 26           4  ...            0.081007   \n",
       "1                 29           3  ...            0.036766   \n",
       "2                 24           1  ...            0.112974   \n",
       "3                 33           3  ...            0.027406   \n",
       "4                 26           2  ...            0.042788   \n",
       "\n",
       "   Communication_3month  Response_communcation  SKU_LastMonthqnt  \\\n",
       "0                     1                      1                60   \n",
       "1                     1                      0                91   \n",
       "2                     1                      1                13   \n",
       "3                     1                      0                68   \n",
       "4                     1                      1                22   \n",
       "\n",
       "   Checks_LastMonthqnt  Amount_LastMonth Discount  Discount_LastMonth  \\\n",
       "0                   12            963.01        1                   1   \n",
       "1                   15           1534.69        1                   1   \n",
       "2                    2           1514.48        1                   1   \n",
       "3                   35           1872.24        1                   1   \n",
       "4                    3            557.97        1                   1   \n",
       "\n",
       "  _SEGMENT_  EM_SEGMENT  \n",
       "0         2           2  \n",
       "1         2           2  \n",
       "2         3           3  \n",
       "3         2           2  \n",
       "4         1           1  \n",
       "\n",
       "[5 rows x 45 columns]"
      ]
     },
     "execution_count": 4,
     "metadata": {},
     "output_type": "execute_result"
    }
   ],
   "source": [
    "df.head()"
   ]
  },
  {
   "cell_type": "markdown",
   "metadata": {},
   "source": [
    "#### В таблице \"for_clustering\" есть 2 идентичных столбца _SEGMENT_ и EM_SEGMENT. Вероятно, это уже разделение на кластеры, но мы сделаем по своему"
   ]
  },
  {
   "cell_type": "markdown",
   "metadata": {},
   "source": [
    "#### Как правило, задача любого бизнеса - это удержать клиентов для получения наибольшей прибыли. Сдлеаем сегментацию клиетов по частоте посещения ресурса на основании столбца Checks_LastMonthqnt. Будем использовать метод k-means"
   ]
  },
  {
   "cell_type": "code",
   "execution_count": 5,
   "metadata": {},
   "outputs": [],
   "source": [
    "klast_df=df[['Id_client','Checks_LastMonthqnt']]"
   ]
  },
  {
   "cell_type": "markdown",
   "metadata": {},
   "source": [
    "#### Определим оптимальное количество кластеров, увелиичивая количество кластеров исчитая сумму наименьших квадратов"
   ]
  },
  {
   "cell_type": "code",
   "execution_count": 6,
   "metadata": {},
   "outputs": [
    {
     "data": {
      "image/png": "[encoded data removed]",
      "text/plain": [
       "<Figure size 864x504 with 1 Axes>"
      ]
     },
     "metadata": {},
     "output_type": "display_data"
    }
   ],
   "source": [
    "from sklearn.cluster import KMeans\n",
    "sse={}\n",
    "tx_recency = klast_df[['Checks_LastMonthqnt']]\n",
    "for k in range(1, 10):\n",
    "    kmeans = KMeans(n_clusters=k, max_iter=1000).fit(tx_recency)\n",
    "    tx_recency[\"clusters\"] = kmeans.labels_\n",
    "    sse[k] = kmeans.inertia_ \n",
    "plt.figure()\n",
    "plt.plot(list(sse.keys()), list(sse.values()))\n",
    "plt.xlabel(\"Number of cluster\")\n",
    "plt.show()"
   ]
  },
  {
   "cell_type": "markdown",
   "metadata": {},
   "source": [
    "#### Как видно из графика - оптимальное количество кластеров = 3. Откластеризуем наши данные и добавим в нашу таблицу"
   ]
  },
  {
   "cell_type": "code",
   "execution_count": 7,
   "metadata": {},
   "outputs": [
    {
     "name": "stderr",
     "output_type": "stream",
     "text": [
      "C:\\Users\\User\\Anaconda3\\lib\\site-packages\\ipykernel_launcher.py:3: SettingWithCopyWarning: \n",
      "A value is trying to be set on a copy of a slice from a DataFrame.\n",
      "Try using .loc[row_indexer,col_indexer] = value instead\n",
      "\n",
      "See the caveats in the documentation: https://pandas.pydata.org/pandas-docs/stable/user_guide/indexing.html#returning-a-view-versus-a-copy\n",
      "  This is separate from the ipykernel package so we can avoid doing imports until\n"
     ]
    }
   ],
   "source": [
    "kmeans = KMeans(n_clusters=3)\n",
    "kmeans.fit(klast_df[['Checks_LastMonthqnt']])\n",
    "klast_df['ChecksCluster'] = kmeans.predict(klast_df[['Checks_LastMonthqnt']])"
   ]
  },
  {
   "cell_type": "code",
   "execution_count": 8,
   "metadata": {},
   "outputs": [
    {
     "data": {
      "text/html": [
       "<div>\n",
       "<style scoped>\n",
       "    .dataframe tbody tr th:only-of-type {\n",
       "        vertical-align: middle;\n",
       "    }\n",
       "\n",
       "    .dataframe tbody tr th {\n",
       "        vertical-align: top;\n",
       "    }\n",
       "\n",
       "    .dataframe thead th {\n",
       "        text-align: right;\n",
       "    }\n",
       "</style>\n",
       "<table border=\"1\" class=\"dataframe\">\n",
       "  <thead>\n",
       "    <tr style=\"text-align: right;\">\n",
       "      <th></th>\n",
       "      <th>Id_client</th>\n",
       "      <th>Checks_LastMonthqnt</th>\n",
       "      <th>ChecksCluster</th>\n",
       "    </tr>\n",
       "  </thead>\n",
       "  <tbody>\n",
       "    <tr>\n",
       "      <th>0</th>\n",
       "      <td>5743</td>\n",
       "      <td>12</td>\n",
       "      <td>0</td>\n",
       "    </tr>\n",
       "    <tr>\n",
       "      <th>1</th>\n",
       "      <td>5756</td>\n",
       "      <td>15</td>\n",
       "      <td>0</td>\n",
       "    </tr>\n",
       "    <tr>\n",
       "      <th>2</th>\n",
       "      <td>5781</td>\n",
       "      <td>2</td>\n",
       "      <td>1</td>\n",
       "    </tr>\n",
       "    <tr>\n",
       "      <th>3</th>\n",
       "      <td>5801</td>\n",
       "      <td>35</td>\n",
       "      <td>2</td>\n",
       "    </tr>\n",
       "    <tr>\n",
       "      <th>4</th>\n",
       "      <td>5808</td>\n",
       "      <td>3</td>\n",
       "      <td>1</td>\n",
       "    </tr>\n",
       "    <tr>\n",
       "      <th>...</th>\n",
       "      <td>...</td>\n",
       "      <td>...</td>\n",
       "      <td>...</td>\n",
       "    </tr>\n",
       "    <tr>\n",
       "      <th>27503</th>\n",
       "      <td>822495</td>\n",
       "      <td>4</td>\n",
       "      <td>1</td>\n",
       "    </tr>\n",
       "    <tr>\n",
       "      <th>27504</th>\n",
       "      <td>822844</td>\n",
       "      <td>5</td>\n",
       "      <td>1</td>\n",
       "    </tr>\n",
       "    <tr>\n",
       "      <th>27505</th>\n",
       "      <td>823011</td>\n",
       "      <td>3</td>\n",
       "      <td>1</td>\n",
       "    </tr>\n",
       "    <tr>\n",
       "      <th>27506</th>\n",
       "      <td>823218</td>\n",
       "      <td>6</td>\n",
       "      <td>1</td>\n",
       "    </tr>\n",
       "    <tr>\n",
       "      <th>27507</th>\n",
       "      <td>830188</td>\n",
       "      <td>5</td>\n",
       "      <td>1</td>\n",
       "    </tr>\n",
       "  </tbody>\n",
       "</table>\n",
       "<p>27508 rows × 3 columns</p>\n",
       "</div>"
      ],
      "text/plain": [
       "       Id_client  Checks_LastMonthqnt  ChecksCluster\n",
       "0           5743                   12              0\n",
       "1           5756                   15              0\n",
       "2           5781                    2              1\n",
       "3           5801                   35              2\n",
       "4           5808                    3              1\n",
       "...          ...                  ...            ...\n",
       "27503     822495                    4              1\n",
       "27504     822844                    5              1\n",
       "27505     823011                    3              1\n",
       "27506     823218                    6              1\n",
       "27507     830188                    5              1\n",
       "\n",
       "[27508 rows x 3 columns]"
      ]
     },
     "execution_count": 8,
     "metadata": {},
     "output_type": "execute_result"
    }
   ],
   "source": [
    "klast_df"
   ]
  },
  {
   "cell_type": "markdown",
   "metadata": {},
   "source": [
    "#### Создадим функицю для сортировки кластеров, чтобы сделать кластеризацию понятнее,  где 0 - мало посещений, 3 (или больше, в зависимости от числа кластеров - много посещений)"
   ]
  },
  {
   "cell_type": "code",
   "execution_count": 9,
   "metadata": {},
   "outputs": [],
   "source": [
    "def sort_cluster(data, field, cluster_field, sort_field='Id_client'):\n",
    "    new=data.sort_values(by=[field]).reset_index()\n",
    "    k=0\n",
    "    t=[]\n",
    "    z=new[cluster_field][0]\n",
    "    for i in new[cluster_field]:\n",
    "        if i==z:\n",
    "            t.append(k)\n",
    "        else:   \n",
    "            k+=1\n",
    "            z=i\n",
    "            t.append(k)\n",
    "    new[cluster_field]=t\n",
    "    new=new.sort_values(by=[sort_field]).reset_index()\n",
    "    t=new[cluster_field]\n",
    "    return t"
   ]
  },
  {
   "cell_type": "code",
   "execution_count": 10,
   "metadata": {},
   "outputs": [
    {
     "name": "stderr",
     "output_type": "stream",
     "text": [
      "C:\\Users\\User\\Anaconda3\\lib\\site-packages\\ipykernel_launcher.py:1: SettingWithCopyWarning: \n",
      "A value is trying to be set on a copy of a slice from a DataFrame.\n",
      "Try using .loc[row_indexer,col_indexer] = value instead\n",
      "\n",
      "See the caveats in the documentation: https://pandas.pydata.org/pandas-docs/stable/user_guide/indexing.html#returning-a-view-versus-a-copy\n",
      "  \"\"\"Entry point for launching an IPython kernel.\n"
     ]
    }
   ],
   "source": [
    "klast_df['ChecksCluster']=sort_cluster(klast_df, 'Checks_LastMonthqnt', 'ChecksCluster')"
   ]
  },
  {
   "cell_type": "code",
   "execution_count": 11,
   "metadata": {},
   "outputs": [
    {
     "data": {
      "text/html": [
       "<div>\n",
       "<style scoped>\n",
       "    .dataframe tbody tr th:only-of-type {\n",
       "        vertical-align: middle;\n",
       "    }\n",
       "\n",
       "    .dataframe tbody tr th {\n",
       "        vertical-align: top;\n",
       "    }\n",
       "\n",
       "    .dataframe thead th {\n",
       "        text-align: right;\n",
       "    }\n",
       "</style>\n",
       "<table border=\"1\" class=\"dataframe\">\n",
       "  <thead>\n",
       "    <tr style=\"text-align: right;\">\n",
       "      <th></th>\n",
       "      <th>Id_client</th>\n",
       "      <th>Checks_LastMonthqnt</th>\n",
       "      <th>ChecksCluster</th>\n",
       "    </tr>\n",
       "  </thead>\n",
       "  <tbody>\n",
       "    <tr>\n",
       "      <th>0</th>\n",
       "      <td>5743</td>\n",
       "      <td>12</td>\n",
       "      <td>1</td>\n",
       "    </tr>\n",
       "    <tr>\n",
       "      <th>1</th>\n",
       "      <td>5756</td>\n",
       "      <td>15</td>\n",
       "      <td>1</td>\n",
       "    </tr>\n",
       "    <tr>\n",
       "      <th>2</th>\n",
       "      <td>5781</td>\n",
       "      <td>2</td>\n",
       "      <td>0</td>\n",
       "    </tr>\n",
       "    <tr>\n",
       "      <th>3</th>\n",
       "      <td>5801</td>\n",
       "      <td>35</td>\n",
       "      <td>2</td>\n",
       "    </tr>\n",
       "    <tr>\n",
       "      <th>4</th>\n",
       "      <td>5808</td>\n",
       "      <td>3</td>\n",
       "      <td>0</td>\n",
       "    </tr>\n",
       "    <tr>\n",
       "      <th>...</th>\n",
       "      <td>...</td>\n",
       "      <td>...</td>\n",
       "      <td>...</td>\n",
       "    </tr>\n",
       "    <tr>\n",
       "      <th>27503</th>\n",
       "      <td>822495</td>\n",
       "      <td>4</td>\n",
       "      <td>0</td>\n",
       "    </tr>\n",
       "    <tr>\n",
       "      <th>27504</th>\n",
       "      <td>822844</td>\n",
       "      <td>5</td>\n",
       "      <td>0</td>\n",
       "    </tr>\n",
       "    <tr>\n",
       "      <th>27505</th>\n",
       "      <td>823011</td>\n",
       "      <td>3</td>\n",
       "      <td>0</td>\n",
       "    </tr>\n",
       "    <tr>\n",
       "      <th>27506</th>\n",
       "      <td>823218</td>\n",
       "      <td>6</td>\n",
       "      <td>0</td>\n",
       "    </tr>\n",
       "    <tr>\n",
       "      <th>27507</th>\n",
       "      <td>830188</td>\n",
       "      <td>5</td>\n",
       "      <td>0</td>\n",
       "    </tr>\n",
       "  </tbody>\n",
       "</table>\n",
       "<p>27508 rows × 3 columns</p>\n",
       "</div>"
      ],
      "text/plain": [
       "       Id_client  Checks_LastMonthqnt  ChecksCluster\n",
       "0           5743                   12              1\n",
       "1           5756                   15              1\n",
       "2           5781                    2              0\n",
       "3           5801                   35              2\n",
       "4           5808                    3              0\n",
       "...          ...                  ...            ...\n",
       "27503     822495                    4              0\n",
       "27504     822844                    5              0\n",
       "27505     823011                    3              0\n",
       "27506     823218                    6              0\n",
       "27507     830188                    5              0\n",
       "\n",
       "[27508 rows x 3 columns]"
      ]
     },
     "execution_count": 11,
     "metadata": {},
     "output_type": "execute_result"
    }
   ],
   "source": [
    "klast_df"
   ]
  },
  {
   "cell_type": "markdown",
   "metadata": {},
   "source": [
    "#### Тоже самое проделаем для общей потраченной клиентом суммой"
   ]
  },
  {
   "cell_type": "code",
   "execution_count": 12,
   "metadata": {},
   "outputs": [
    {
     "name": "stderr",
     "output_type": "stream",
     "text": [
      "C:\\Users\\User\\Anaconda3\\lib\\site-packages\\ipykernel_launcher.py:1: SettingWithCopyWarning: \n",
      "A value is trying to be set on a copy of a slice from a DataFrame.\n",
      "Try using .loc[row_indexer,col_indexer] = value instead\n",
      "\n",
      "See the caveats in the documentation: https://pandas.pydata.org/pandas-docs/stable/user_guide/indexing.html#returning-a-view-versus-a-copy\n",
      "  \"\"\"Entry point for launching an IPython kernel.\n"
     ]
    }
   ],
   "source": [
    "klast_df['Total_amount']=df['Total_amount']"
   ]
  },
  {
   "cell_type": "code",
   "execution_count": 13,
   "metadata": {},
   "outputs": [
    {
     "data": {
      "text/html": [
       "<div>\n",
       "<style scoped>\n",
       "    .dataframe tbody tr th:only-of-type {\n",
       "        vertical-align: middle;\n",
       "    }\n",
       "\n",
       "    .dataframe tbody tr th {\n",
       "        vertical-align: top;\n",
       "    }\n",
       "\n",
       "    .dataframe thead th {\n",
       "        text-align: right;\n",
       "    }\n",
       "</style>\n",
       "<table border=\"1\" class=\"dataframe\">\n",
       "  <thead>\n",
       "    <tr style=\"text-align: right;\">\n",
       "      <th></th>\n",
       "      <th>Id_client</th>\n",
       "      <th>Checks_LastMonthqnt</th>\n",
       "      <th>ChecksCluster</th>\n",
       "      <th>Total_amount</th>\n",
       "    </tr>\n",
       "  </thead>\n",
       "  <tbody>\n",
       "    <tr>\n",
       "      <th>0</th>\n",
       "      <td>5743</td>\n",
       "      <td>12</td>\n",
       "      <td>1</td>\n",
       "      <td>12398.51</td>\n",
       "    </tr>\n",
       "    <tr>\n",
       "      <th>1</th>\n",
       "      <td>5756</td>\n",
       "      <td>15</td>\n",
       "      <td>1</td>\n",
       "      <td>12959.65</td>\n",
       "    </tr>\n",
       "    <tr>\n",
       "      <th>2</th>\n",
       "      <td>5781</td>\n",
       "      <td>2</td>\n",
       "      <td>0</td>\n",
       "      <td>2963.88</td>\n",
       "    </tr>\n",
       "    <tr>\n",
       "      <th>3</th>\n",
       "      <td>5801</td>\n",
       "      <td>35</td>\n",
       "      <td>2</td>\n",
       "      <td>19676.34</td>\n",
       "    </tr>\n",
       "    <tr>\n",
       "      <th>4</th>\n",
       "      <td>5808</td>\n",
       "      <td>3</td>\n",
       "      <td>0</td>\n",
       "      <td>2482.24</td>\n",
       "    </tr>\n",
       "  </tbody>\n",
       "</table>\n",
       "</div>"
      ],
      "text/plain": [
       "   Id_client  Checks_LastMonthqnt  ChecksCluster  Total_amount\n",
       "0       5743                   12              1      12398.51\n",
       "1       5756                   15              1      12959.65\n",
       "2       5781                    2              0       2963.88\n",
       "3       5801                   35              2      19676.34\n",
       "4       5808                    3              0       2482.24"
      ]
     },
     "execution_count": 13,
     "metadata": {},
     "output_type": "execute_result"
    }
   ],
   "source": [
    "klast_df.head()"
   ]
  },
  {
   "cell_type": "code",
   "execution_count": 14,
   "metadata": {},
   "outputs": [
    {
     "name": "stderr",
     "output_type": "stream",
     "text": [
      "C:\\Users\\User\\Anaconda3\\lib\\site-packages\\ipykernel_launcher.py:5: SettingWithCopyWarning: \n",
      "A value is trying to be set on a copy of a slice from a DataFrame.\n",
      "Try using .loc[row_indexer,col_indexer] = value instead\n",
      "\n",
      "See the caveats in the documentation: https://pandas.pydata.org/pandas-docs/stable/user_guide/indexing.html#returning-a-view-versus-a-copy\n",
      "  \"\"\"\n",
      "C:\\Users\\User\\Anaconda3\\lib\\site-packages\\ipykernel_launcher.py:5: SettingWithCopyWarning: \n",
      "A value is trying to be set on a copy of a slice from a DataFrame.\n",
      "Try using .loc[row_indexer,col_indexer] = value instead\n",
      "\n",
      "See the caveats in the documentation: https://pandas.pydata.org/pandas-docs/stable/user_guide/indexing.html#returning-a-view-versus-a-copy\n",
      "  \"\"\"\n",
      "C:\\Users\\User\\Anaconda3\\lib\\site-packages\\ipykernel_launcher.py:5: SettingWithCopyWarning: \n",
      "A value is trying to be set on a copy of a slice from a DataFrame.\n",
      "Try using .loc[row_indexer,col_indexer] = value instead\n",
      "\n",
      "See the caveats in the documentation: https://pandas.pydata.org/pandas-docs/stable/user_guide/indexing.html#returning-a-view-versus-a-copy\n",
      "  \"\"\"\n",
      "C:\\Users\\User\\Anaconda3\\lib\\site-packages\\ipykernel_launcher.py:5: SettingWithCopyWarning: \n",
      "A value is trying to be set on a copy of a slice from a DataFrame.\n",
      "Try using .loc[row_indexer,col_indexer] = value instead\n",
      "\n",
      "See the caveats in the documentation: https://pandas.pydata.org/pandas-docs/stable/user_guide/indexing.html#returning-a-view-versus-a-copy\n",
      "  \"\"\"\n",
      "C:\\Users\\User\\Anaconda3\\lib\\site-packages\\ipykernel_launcher.py:5: SettingWithCopyWarning: \n",
      "A value is trying to be set on a copy of a slice from a DataFrame.\n",
      "Try using .loc[row_indexer,col_indexer] = value instead\n",
      "\n",
      "See the caveats in the documentation: https://pandas.pydata.org/pandas-docs/stable/user_guide/indexing.html#returning-a-view-versus-a-copy\n",
      "  \"\"\"\n",
      "C:\\Users\\User\\Anaconda3\\lib\\site-packages\\ipykernel_launcher.py:5: SettingWithCopyWarning: \n",
      "A value is trying to be set on a copy of a slice from a DataFrame.\n",
      "Try using .loc[row_indexer,col_indexer] = value instead\n",
      "\n",
      "See the caveats in the documentation: https://pandas.pydata.org/pandas-docs/stable/user_guide/indexing.html#returning-a-view-versus-a-copy\n",
      "  \"\"\"\n",
      "C:\\Users\\User\\Anaconda3\\lib\\site-packages\\ipykernel_launcher.py:5: SettingWithCopyWarning: \n",
      "A value is trying to be set on a copy of a slice from a DataFrame.\n",
      "Try using .loc[row_indexer,col_indexer] = value instead\n",
      "\n",
      "See the caveats in the documentation: https://pandas.pydata.org/pandas-docs/stable/user_guide/indexing.html#returning-a-view-versus-a-copy\n",
      "  \"\"\"\n",
      "C:\\Users\\User\\Anaconda3\\lib\\site-packages\\ipykernel_launcher.py:5: SettingWithCopyWarning: \n",
      "A value is trying to be set on a copy of a slice from a DataFrame.\n",
      "Try using .loc[row_indexer,col_indexer] = value instead\n",
      "\n",
      "See the caveats in the documentation: https://pandas.pydata.org/pandas-docs/stable/user_guide/indexing.html#returning-a-view-versus-a-copy\n",
      "  \"\"\"\n",
      "C:\\Users\\User\\Anaconda3\\lib\\site-packages\\ipykernel_launcher.py:5: SettingWithCopyWarning: \n",
      "A value is trying to be set on a copy of a slice from a DataFrame.\n",
      "Try using .loc[row_indexer,col_indexer] = value instead\n",
      "\n",
      "See the caveats in the documentation: https://pandas.pydata.org/pandas-docs/stable/user_guide/indexing.html#returning-a-view-versus-a-copy\n",
      "  \"\"\"\n"
     ]
    },
    {
     "data": {
      "image/png": "[encoded data removed]",
      "text/plain": [
       "<Figure size 864x504 with 1 Axes>"
      ]
     },
     "metadata": {},
     "output_type": "display_data"
    }
   ],
   "source": [
    "sse={}\n",
    "tx_recency = klast_df[['Total_amount']]\n",
    "for k in range(1, 10):\n",
    "    kmeans = KMeans(n_clusters=k, max_iter=1000).fit(tx_recency)\n",
    "    tx_recency[\"clusters\"] = kmeans.labels_\n",
    "    sse[k] = kmeans.inertia_ \n",
    "plt.figure()\n",
    "plt.plot(list(sse.keys()), list(sse.values()))\n",
    "plt.xlabel(\"Number of cluster\")\n",
    "plt.show()"
   ]
  },
  {
   "cell_type": "markdown",
   "metadata": {},
   "source": [
    "#### Оптимальное количество кластеров = 3. Откластеризуем пользователей по показателю общей потраченной суммы"
   ]
  },
  {
   "cell_type": "code",
   "execution_count": 15,
   "metadata": {},
   "outputs": [
    {
     "name": "stderr",
     "output_type": "stream",
     "text": [
      "C:\\Users\\User\\Anaconda3\\lib\\site-packages\\ipykernel_launcher.py:3: SettingWithCopyWarning: \n",
      "A value is trying to be set on a copy of a slice from a DataFrame.\n",
      "Try using .loc[row_indexer,col_indexer] = value instead\n",
      "\n",
      "See the caveats in the documentation: https://pandas.pydata.org/pandas-docs/stable/user_guide/indexing.html#returning-a-view-versus-a-copy\n",
      "  This is separate from the ipykernel package so we can avoid doing imports until\n"
     ]
    }
   ],
   "source": [
    "kmeans = KMeans(n_clusters=3)\n",
    "kmeans.fit(klast_df[['Total_amount']])\n",
    "klast_df['AmountCluster'] = kmeans.predict(klast_df[['Total_amount']])"
   ]
  },
  {
   "cell_type": "markdown",
   "metadata": {},
   "source": [
    "#### С помощью созданной функции отсортируем новые кластеры, где 0 - потратил мало денег, 3 - потратил много"
   ]
  },
  {
   "cell_type": "code",
   "execution_count": 16,
   "metadata": {},
   "outputs": [
    {
     "name": "stderr",
     "output_type": "stream",
     "text": [
      "C:\\Users\\User\\Anaconda3\\lib\\site-packages\\ipykernel_launcher.py:1: SettingWithCopyWarning: \n",
      "A value is trying to be set on a copy of a slice from a DataFrame.\n",
      "Try using .loc[row_indexer,col_indexer] = value instead\n",
      "\n",
      "See the caveats in the documentation: https://pandas.pydata.org/pandas-docs/stable/user_guide/indexing.html#returning-a-view-versus-a-copy\n",
      "  \"\"\"Entry point for launching an IPython kernel.\n"
     ]
    }
   ],
   "source": [
    "klast_df['AmountCluster'] = sort_cluster(klast_df, 'Total_amount', 'AmountCluster')"
   ]
  },
  {
   "cell_type": "markdown",
   "metadata": {},
   "source": [
    "#### И третий параметр для клкстеризации возьмём общее количество товаров, купленных в Cat_householdchem_qnt, Cat_careproducts_qnt, Cat_toiletries_qnt, Cat_healthwellnes_qnt, Cat_babyprod_qnt\n"
   ]
  },
  {
   "cell_type": "code",
   "execution_count": 17,
   "metadata": {},
   "outputs": [
    {
     "name": "stderr",
     "output_type": "stream",
     "text": [
      "C:\\Users\\User\\Anaconda3\\lib\\site-packages\\ipykernel_launcher.py:1: SettingWithCopyWarning: \n",
      "A value is trying to be set on a copy of a slice from a DataFrame.\n",
      "Try using .loc[row_indexer,col_indexer] = value instead\n",
      "\n",
      "See the caveats in the documentation: https://pandas.pydata.org/pandas-docs/stable/user_guide/indexing.html#returning-a-view-versus-a-copy\n",
      "  \"\"\"Entry point for launching an IPython kernel.\n"
     ]
    }
   ],
   "source": [
    "klast_df['qty']=df['Cat_householdchem_qnt']+df['Cat_careproducts_qnt']+df['Cat_toiletries_qnt']+df['Cat_healthwellnes_qnt']+df['Cat_babyprod_qnt']"
   ]
  },
  {
   "cell_type": "code",
   "execution_count": 18,
   "metadata": {},
   "outputs": [
    {
     "data": {
      "text/html": [
       "<div>\n",
       "<style scoped>\n",
       "    .dataframe tbody tr th:only-of-type {\n",
       "        vertical-align: middle;\n",
       "    }\n",
       "\n",
       "    .dataframe tbody tr th {\n",
       "        vertical-align: top;\n",
       "    }\n",
       "\n",
       "    .dataframe thead th {\n",
       "        text-align: right;\n",
       "    }\n",
       "</style>\n",
       "<table border=\"1\" class=\"dataframe\">\n",
       "  <thead>\n",
       "    <tr style=\"text-align: right;\">\n",
       "      <th></th>\n",
       "      <th>Id_client</th>\n",
       "      <th>Checks_LastMonthqnt</th>\n",
       "      <th>ChecksCluster</th>\n",
       "      <th>Total_amount</th>\n",
       "      <th>AmountCluster</th>\n",
       "      <th>qty</th>\n",
       "    </tr>\n",
       "  </thead>\n",
       "  <tbody>\n",
       "    <tr>\n",
       "      <th>0</th>\n",
       "      <td>5743</td>\n",
       "      <td>12</td>\n",
       "      <td>1</td>\n",
       "      <td>12398.51</td>\n",
       "      <td>1</td>\n",
       "      <td>1114</td>\n",
       "    </tr>\n",
       "    <tr>\n",
       "      <th>1</th>\n",
       "      <td>5756</td>\n",
       "      <td>15</td>\n",
       "      <td>1</td>\n",
       "      <td>12959.65</td>\n",
       "      <td>1</td>\n",
       "      <td>1024</td>\n",
       "    </tr>\n",
       "    <tr>\n",
       "      <th>2</th>\n",
       "      <td>5781</td>\n",
       "      <td>2</td>\n",
       "      <td>0</td>\n",
       "      <td>2963.88</td>\n",
       "      <td>0</td>\n",
       "      <td>170</td>\n",
       "    </tr>\n",
       "    <tr>\n",
       "      <th>3</th>\n",
       "      <td>5801</td>\n",
       "      <td>35</td>\n",
       "      <td>2</td>\n",
       "      <td>19676.34</td>\n",
       "      <td>2</td>\n",
       "      <td>2486</td>\n",
       "    </tr>\n",
       "    <tr>\n",
       "      <th>4</th>\n",
       "      <td>5808</td>\n",
       "      <td>3</td>\n",
       "      <td>0</td>\n",
       "      <td>2482.24</td>\n",
       "      <td>0</td>\n",
       "      <td>255</td>\n",
       "    </tr>\n",
       "  </tbody>\n",
       "</table>\n",
       "</div>"
      ],
      "text/plain": [
       "   Id_client  Checks_LastMonthqnt  ChecksCluster  Total_amount  AmountCluster  \\\n",
       "0       5743                   12              1      12398.51              1   \n",
       "1       5756                   15              1      12959.65              1   \n",
       "2       5781                    2              0       2963.88              0   \n",
       "3       5801                   35              2      19676.34              2   \n",
       "4       5808                    3              0       2482.24              0   \n",
       "\n",
       "    qty  \n",
       "0  1114  \n",
       "1  1024  \n",
       "2   170  \n",
       "3  2486  \n",
       "4   255  "
      ]
     },
     "execution_count": 18,
     "metadata": {},
     "output_type": "execute_result"
    }
   ],
   "source": [
    "klast_df.head()"
   ]
  },
  {
   "cell_type": "code",
   "execution_count": 19,
   "metadata": {},
   "outputs": [
    {
     "name": "stderr",
     "output_type": "stream",
     "text": [
      "C:\\Users\\User\\Anaconda3\\lib\\site-packages\\ipykernel_launcher.py:5: SettingWithCopyWarning: \n",
      "A value is trying to be set on a copy of a slice from a DataFrame.\n",
      "Try using .loc[row_indexer,col_indexer] = value instead\n",
      "\n",
      "See the caveats in the documentation: https://pandas.pydata.org/pandas-docs/stable/user_guide/indexing.html#returning-a-view-versus-a-copy\n",
      "  \"\"\"\n",
      "C:\\Users\\User\\Anaconda3\\lib\\site-packages\\ipykernel_launcher.py:5: SettingWithCopyWarning: \n",
      "A value is trying to be set on a copy of a slice from a DataFrame.\n",
      "Try using .loc[row_indexer,col_indexer] = value instead\n",
      "\n",
      "See the caveats in the documentation: https://pandas.pydata.org/pandas-docs/stable/user_guide/indexing.html#returning-a-view-versus-a-copy\n",
      "  \"\"\"\n",
      "C:\\Users\\User\\Anaconda3\\lib\\site-packages\\ipykernel_launcher.py:5: SettingWithCopyWarning: \n",
      "A value is trying to be set on a copy of a slice from a DataFrame.\n",
      "Try using .loc[row_indexer,col_indexer] = value instead\n",
      "\n",
      "See the caveats in the documentation: https://pandas.pydata.org/pandas-docs/stable/user_guide/indexing.html#returning-a-view-versus-a-copy\n",
      "  \"\"\"\n",
      "C:\\Users\\User\\Anaconda3\\lib\\site-packages\\ipykernel_launcher.py:5: SettingWithCopyWarning: \n",
      "A value is trying to be set on a copy of a slice from a DataFrame.\n",
      "Try using .loc[row_indexer,col_indexer] = value instead\n",
      "\n",
      "See the caveats in the documentation: https://pandas.pydata.org/pandas-docs/stable/user_guide/indexing.html#returning-a-view-versus-a-copy\n",
      "  \"\"\"\n",
      "C:\\Users\\User\\Anaconda3\\lib\\site-packages\\ipykernel_launcher.py:5: SettingWithCopyWarning: \n",
      "A value is trying to be set on a copy of a slice from a DataFrame.\n",
      "Try using .loc[row_indexer,col_indexer] = value instead\n",
      "\n",
      "See the caveats in the documentation: https://pandas.pydata.org/pandas-docs/stable/user_guide/indexing.html#returning-a-view-versus-a-copy\n",
      "  \"\"\"\n",
      "C:\\Users\\User\\Anaconda3\\lib\\site-packages\\ipykernel_launcher.py:5: SettingWithCopyWarning: \n",
      "A value is trying to be set on a copy of a slice from a DataFrame.\n",
      "Try using .loc[row_indexer,col_indexer] = value instead\n",
      "\n",
      "See the caveats in the documentation: https://pandas.pydata.org/pandas-docs/stable/user_guide/indexing.html#returning-a-view-versus-a-copy\n",
      "  \"\"\"\n",
      "C:\\Users\\User\\Anaconda3\\lib\\site-packages\\ipykernel_launcher.py:5: SettingWithCopyWarning: \n",
      "A value is trying to be set on a copy of a slice from a DataFrame.\n",
      "Try using .loc[row_indexer,col_indexer] = value instead\n",
      "\n",
      "See the caveats in the documentation: https://pandas.pydata.org/pandas-docs/stable/user_guide/indexing.html#returning-a-view-versus-a-copy\n",
      "  \"\"\"\n",
      "C:\\Users\\User\\Anaconda3\\lib\\site-packages\\ipykernel_launcher.py:5: SettingWithCopyWarning: \n",
      "A value is trying to be set on a copy of a slice from a DataFrame.\n",
      "Try using .loc[row_indexer,col_indexer] = value instead\n",
      "\n",
      "See the caveats in the documentation: https://pandas.pydata.org/pandas-docs/stable/user_guide/indexing.html#returning-a-view-versus-a-copy\n",
      "  \"\"\"\n",
      "C:\\Users\\User\\Anaconda3\\lib\\site-packages\\ipykernel_launcher.py:5: SettingWithCopyWarning: \n",
      "A value is trying to be set on a copy of a slice from a DataFrame.\n",
      "Try using .loc[row_indexer,col_indexer] = value instead\n",
      "\n",
      "See the caveats in the documentation: https://pandas.pydata.org/pandas-docs/stable/user_guide/indexing.html#returning-a-view-versus-a-copy\n",
      "  \"\"\"\n"
     ]
    },
    {
     "data": {
      "image/png": "[encoded data removed]",
      "text/plain": [
       "<Figure size 864x504 with 1 Axes>"
      ]
     },
     "metadata": {},
     "output_type": "display_data"
    }
   ],
   "source": [
    "sse={}\n",
    "tx_recency = klast_df[['qty']]\n",
    "for k in range(1, 10):\n",
    "    kmeans = KMeans(n_clusters=k, max_iter=1000).fit(tx_recency)\n",
    "    tx_recency[\"clusters\"] = kmeans.labels_\n",
    "    sse[k] = kmeans.inertia_ \n",
    "plt.figure()\n",
    "plt.plot(list(sse.keys()), list(sse.values()))\n",
    "plt.xlabel(\"Number of cluster\")\n",
    "plt.show()"
   ]
  },
  {
   "cell_type": "markdown",
   "metadata": {},
   "source": [
    "#### Оптимальное число кластеров = 3. Сделаем все как в предыдущих шагах. Откластеризуем данные по количеству товара и отсортируем кластеры, где 0 - мало товаров, 3 - много товаров"
   ]
  },
  {
   "cell_type": "code",
   "execution_count": 20,
   "metadata": {},
   "outputs": [
    {
     "name": "stderr",
     "output_type": "stream",
     "text": [
      "C:\\Users\\User\\Anaconda3\\lib\\site-packages\\ipykernel_launcher.py:3: SettingWithCopyWarning: \n",
      "A value is trying to be set on a copy of a slice from a DataFrame.\n",
      "Try using .loc[row_indexer,col_indexer] = value instead\n",
      "\n",
      "See the caveats in the documentation: https://pandas.pydata.org/pandas-docs/stable/user_guide/indexing.html#returning-a-view-versus-a-copy\n",
      "  This is separate from the ipykernel package so we can avoid doing imports until\n"
     ]
    }
   ],
   "source": [
    "kmeans = KMeans(n_clusters=3)\n",
    "kmeans.fit(klast_df[['qty']])\n",
    "klast_df['qtyCluster'] = kmeans.predict(klast_df[['qty']])"
   ]
  },
  {
   "cell_type": "code",
   "execution_count": 21,
   "metadata": {},
   "outputs": [
    {
     "name": "stderr",
     "output_type": "stream",
     "text": [
      "C:\\Users\\User\\Anaconda3\\lib\\site-packages\\ipykernel_launcher.py:1: SettingWithCopyWarning: \n",
      "A value is trying to be set on a copy of a slice from a DataFrame.\n",
      "Try using .loc[row_indexer,col_indexer] = value instead\n",
      "\n",
      "See the caveats in the documentation: https://pandas.pydata.org/pandas-docs/stable/user_guide/indexing.html#returning-a-view-versus-a-copy\n",
      "  \"\"\"Entry point for launching an IPython kernel.\n"
     ]
    }
   ],
   "source": [
    "klast_df['qtyCluster'] = sort_cluster(klast_df, 'qty', 'qtyCluster')"
   ]
  },
  {
   "cell_type": "code",
   "execution_count": 22,
   "metadata": {},
   "outputs": [
    {
     "data": {
      "text/html": [
       "<div>\n",
       "<style scoped>\n",
       "    .dataframe tbody tr th:only-of-type {\n",
       "        vertical-align: middle;\n",
       "    }\n",
       "\n",
       "    .dataframe tbody tr th {\n",
       "        vertical-align: top;\n",
       "    }\n",
       "\n",
       "    .dataframe thead th {\n",
       "        text-align: right;\n",
       "    }\n",
       "</style>\n",
       "<table border=\"1\" class=\"dataframe\">\n",
       "  <thead>\n",
       "    <tr style=\"text-align: right;\">\n",
       "      <th></th>\n",
       "      <th>Id_client</th>\n",
       "      <th>Checks_LastMonthqnt</th>\n",
       "      <th>ChecksCluster</th>\n",
       "      <th>Total_amount</th>\n",
       "      <th>AmountCluster</th>\n",
       "      <th>qty</th>\n",
       "      <th>qtyCluster</th>\n",
       "    </tr>\n",
       "  </thead>\n",
       "  <tbody>\n",
       "    <tr>\n",
       "      <th>0</th>\n",
       "      <td>5743</td>\n",
       "      <td>12</td>\n",
       "      <td>1</td>\n",
       "      <td>12398.51</td>\n",
       "      <td>1</td>\n",
       "      <td>1114</td>\n",
       "      <td>1</td>\n",
       "    </tr>\n",
       "    <tr>\n",
       "      <th>1</th>\n",
       "      <td>5756</td>\n",
       "      <td>15</td>\n",
       "      <td>1</td>\n",
       "      <td>12959.65</td>\n",
       "      <td>1</td>\n",
       "      <td>1024</td>\n",
       "      <td>1</td>\n",
       "    </tr>\n",
       "    <tr>\n",
       "      <th>2</th>\n",
       "      <td>5781</td>\n",
       "      <td>2</td>\n",
       "      <td>0</td>\n",
       "      <td>2963.88</td>\n",
       "      <td>0</td>\n",
       "      <td>170</td>\n",
       "      <td>0</td>\n",
       "    </tr>\n",
       "    <tr>\n",
       "      <th>3</th>\n",
       "      <td>5801</td>\n",
       "      <td>35</td>\n",
       "      <td>2</td>\n",
       "      <td>19676.34</td>\n",
       "      <td>2</td>\n",
       "      <td>2486</td>\n",
       "      <td>2</td>\n",
       "    </tr>\n",
       "    <tr>\n",
       "      <th>4</th>\n",
       "      <td>5808</td>\n",
       "      <td>3</td>\n",
       "      <td>0</td>\n",
       "      <td>2482.24</td>\n",
       "      <td>0</td>\n",
       "      <td>255</td>\n",
       "      <td>0</td>\n",
       "    </tr>\n",
       "    <tr>\n",
       "      <th>...</th>\n",
       "      <td>...</td>\n",
       "      <td>...</td>\n",
       "      <td>...</td>\n",
       "      <td>...</td>\n",
       "      <td>...</td>\n",
       "      <td>...</td>\n",
       "      <td>...</td>\n",
       "    </tr>\n",
       "    <tr>\n",
       "      <th>27503</th>\n",
       "      <td>822495</td>\n",
       "      <td>4</td>\n",
       "      <td>0</td>\n",
       "      <td>6164.92</td>\n",
       "      <td>0</td>\n",
       "      <td>317</td>\n",
       "      <td>0</td>\n",
       "    </tr>\n",
       "    <tr>\n",
       "      <th>27504</th>\n",
       "      <td>822844</td>\n",
       "      <td>5</td>\n",
       "      <td>0</td>\n",
       "      <td>3653.61</td>\n",
       "      <td>0</td>\n",
       "      <td>412</td>\n",
       "      <td>0</td>\n",
       "    </tr>\n",
       "    <tr>\n",
       "      <th>27505</th>\n",
       "      <td>823011</td>\n",
       "      <td>3</td>\n",
       "      <td>0</td>\n",
       "      <td>7509.19</td>\n",
       "      <td>0</td>\n",
       "      <td>434</td>\n",
       "      <td>0</td>\n",
       "    </tr>\n",
       "    <tr>\n",
       "      <th>27506</th>\n",
       "      <td>823218</td>\n",
       "      <td>6</td>\n",
       "      <td>0</td>\n",
       "      <td>8612.11</td>\n",
       "      <td>1</td>\n",
       "      <td>465</td>\n",
       "      <td>0</td>\n",
       "    </tr>\n",
       "    <tr>\n",
       "      <th>27507</th>\n",
       "      <td>830188</td>\n",
       "      <td>5</td>\n",
       "      <td>0</td>\n",
       "      <td>3233.94</td>\n",
       "      <td>0</td>\n",
       "      <td>139</td>\n",
       "      <td>0</td>\n",
       "    </tr>\n",
       "  </tbody>\n",
       "</table>\n",
       "<p>27508 rows × 7 columns</p>\n",
       "</div>"
      ],
      "text/plain": [
       "       Id_client  Checks_LastMonthqnt  ChecksCluster  Total_amount  \\\n",
       "0           5743                   12              1      12398.51   \n",
       "1           5756                   15              1      12959.65   \n",
       "2           5781                    2              0       2963.88   \n",
       "3           5801                   35              2      19676.34   \n",
       "4           5808                    3              0       2482.24   \n",
       "...          ...                  ...            ...           ...   \n",
       "27503     822495                    4              0       6164.92   \n",
       "27504     822844                    5              0       3653.61   \n",
       "27505     823011                    3              0       7509.19   \n",
       "27506     823218                    6              0       8612.11   \n",
       "27507     830188                    5              0       3233.94   \n",
       "\n",
       "       AmountCluster   qty  qtyCluster  \n",
       "0                  1  1114           1  \n",
       "1                  1  1024           1  \n",
       "2                  0   170           0  \n",
       "3                  2  2486           2  \n",
       "4                  0   255           0  \n",
       "...              ...   ...         ...  \n",
       "27503              0   317           0  \n",
       "27504              0   412           0  \n",
       "27505              0   434           0  \n",
       "27506              1   465           0  \n",
       "27507              0   139           0  \n",
       "\n",
       "[27508 rows x 7 columns]"
      ]
     },
     "execution_count": 22,
     "metadata": {},
     "output_type": "execute_result"
    }
   ],
   "source": [
    "klast_df"
   ]
  },
  {
   "cell_type": "markdown",
   "metadata": {},
   "source": [
    "#### Как видно из таблицы, кластеры оказались примерно одинаковы. Посчитаем общий счёт всех кластеров"
   ]
  },
  {
   "cell_type": "code",
   "execution_count": 23,
   "metadata": {},
   "outputs": [
    {
     "name": "stderr",
     "output_type": "stream",
     "text": [
      "C:\\Users\\User\\Anaconda3\\lib\\site-packages\\ipykernel_launcher.py:1: SettingWithCopyWarning: \n",
      "A value is trying to be set on a copy of a slice from a DataFrame.\n",
      "Try using .loc[row_indexer,col_indexer] = value instead\n",
      "\n",
      "See the caveats in the documentation: https://pandas.pydata.org/pandas-docs/stable/user_guide/indexing.html#returning-a-view-versus-a-copy\n",
      "  \"\"\"Entry point for launching an IPython kernel.\n"
     ]
    }
   ],
   "source": [
    "klast_df['OverallScore']=klast_df['ChecksCluster']+klast_df['AmountCluster']+klast_df['qtyCluster']"
   ]
  },
  {
   "cell_type": "code",
   "execution_count": 24,
   "metadata": {},
   "outputs": [
    {
     "data": {
      "text/html": [
       "<div>\n",
       "<style scoped>\n",
       "    .dataframe tbody tr th:only-of-type {\n",
       "        vertical-align: middle;\n",
       "    }\n",
       "\n",
       "    .dataframe tbody tr th {\n",
       "        vertical-align: top;\n",
       "    }\n",
       "\n",
       "    .dataframe thead th {\n",
       "        text-align: right;\n",
       "    }\n",
       "</style>\n",
       "<table border=\"1\" class=\"dataframe\">\n",
       "  <thead>\n",
       "    <tr style=\"text-align: right;\">\n",
       "      <th></th>\n",
       "      <th>Id_client</th>\n",
       "      <th>Checks_LastMonthqnt</th>\n",
       "      <th>ChecksCluster</th>\n",
       "      <th>Total_amount</th>\n",
       "      <th>AmountCluster</th>\n",
       "      <th>qty</th>\n",
       "      <th>qtyCluster</th>\n",
       "      <th>OverallScore</th>\n",
       "    </tr>\n",
       "  </thead>\n",
       "  <tbody>\n",
       "    <tr>\n",
       "      <th>0</th>\n",
       "      <td>5743</td>\n",
       "      <td>12</td>\n",
       "      <td>1</td>\n",
       "      <td>12398.51</td>\n",
       "      <td>1</td>\n",
       "      <td>1114</td>\n",
       "      <td>1</td>\n",
       "      <td>3</td>\n",
       "    </tr>\n",
       "    <tr>\n",
       "      <th>1</th>\n",
       "      <td>5756</td>\n",
       "      <td>15</td>\n",
       "      <td>1</td>\n",
       "      <td>12959.65</td>\n",
       "      <td>1</td>\n",
       "      <td>1024</td>\n",
       "      <td>1</td>\n",
       "      <td>3</td>\n",
       "    </tr>\n",
       "    <tr>\n",
       "      <th>2</th>\n",
       "      <td>5781</td>\n",
       "      <td>2</td>\n",
       "      <td>0</td>\n",
       "      <td>2963.88</td>\n",
       "      <td>0</td>\n",
       "      <td>170</td>\n",
       "      <td>0</td>\n",
       "      <td>0</td>\n",
       "    </tr>\n",
       "    <tr>\n",
       "      <th>3</th>\n",
       "      <td>5801</td>\n",
       "      <td>35</td>\n",
       "      <td>2</td>\n",
       "      <td>19676.34</td>\n",
       "      <td>2</td>\n",
       "      <td>2486</td>\n",
       "      <td>2</td>\n",
       "      <td>6</td>\n",
       "    </tr>\n",
       "    <tr>\n",
       "      <th>4</th>\n",
       "      <td>5808</td>\n",
       "      <td>3</td>\n",
       "      <td>0</td>\n",
       "      <td>2482.24</td>\n",
       "      <td>0</td>\n",
       "      <td>255</td>\n",
       "      <td>0</td>\n",
       "      <td>0</td>\n",
       "    </tr>\n",
       "    <tr>\n",
       "      <th>...</th>\n",
       "      <td>...</td>\n",
       "      <td>...</td>\n",
       "      <td>...</td>\n",
       "      <td>...</td>\n",
       "      <td>...</td>\n",
       "      <td>...</td>\n",
       "      <td>...</td>\n",
       "      <td>...</td>\n",
       "    </tr>\n",
       "    <tr>\n",
       "      <th>27503</th>\n",
       "      <td>822495</td>\n",
       "      <td>4</td>\n",
       "      <td>0</td>\n",
       "      <td>6164.92</td>\n",
       "      <td>0</td>\n",
       "      <td>317</td>\n",
       "      <td>0</td>\n",
       "      <td>0</td>\n",
       "    </tr>\n",
       "    <tr>\n",
       "      <th>27504</th>\n",
       "      <td>822844</td>\n",
       "      <td>5</td>\n",
       "      <td>0</td>\n",
       "      <td>3653.61</td>\n",
       "      <td>0</td>\n",
       "      <td>412</td>\n",
       "      <td>0</td>\n",
       "      <td>0</td>\n",
       "    </tr>\n",
       "    <tr>\n",
       "      <th>27505</th>\n",
       "      <td>823011</td>\n",
       "      <td>3</td>\n",
       "      <td>0</td>\n",
       "      <td>7509.19</td>\n",
       "      <td>0</td>\n",
       "      <td>434</td>\n",
       "      <td>0</td>\n",
       "      <td>0</td>\n",
       "    </tr>\n",
       "    <tr>\n",
       "      <th>27506</th>\n",
       "      <td>823218</td>\n",
       "      <td>6</td>\n",
       "      <td>0</td>\n",
       "      <td>8612.11</td>\n",
       "      <td>1</td>\n",
       "      <td>465</td>\n",
       "      <td>0</td>\n",
       "      <td>1</td>\n",
       "    </tr>\n",
       "    <tr>\n",
       "      <th>27507</th>\n",
       "      <td>830188</td>\n",
       "      <td>5</td>\n",
       "      <td>0</td>\n",
       "      <td>3233.94</td>\n",
       "      <td>0</td>\n",
       "      <td>139</td>\n",
       "      <td>0</td>\n",
       "      <td>0</td>\n",
       "    </tr>\n",
       "  </tbody>\n",
       "</table>\n",
       "<p>27508 rows × 8 columns</p>\n",
       "</div>"
      ],
      "text/plain": [
       "       Id_client  Checks_LastMonthqnt  ChecksCluster  Total_amount  \\\n",
       "0           5743                   12              1      12398.51   \n",
       "1           5756                   15              1      12959.65   \n",
       "2           5781                    2              0       2963.88   \n",
       "3           5801                   35              2      19676.34   \n",
       "4           5808                    3              0       2482.24   \n",
       "...          ...                  ...            ...           ...   \n",
       "27503     822495                    4              0       6164.92   \n",
       "27504     822844                    5              0       3653.61   \n",
       "27505     823011                    3              0       7509.19   \n",
       "27506     823218                    6              0       8612.11   \n",
       "27507     830188                    5              0       3233.94   \n",
       "\n",
       "       AmountCluster   qty  qtyCluster  OverallScore  \n",
       "0                  1  1114           1             3  \n",
       "1                  1  1024           1             3  \n",
       "2                  0   170           0             0  \n",
       "3                  2  2486           2             6  \n",
       "4                  0   255           0             0  \n",
       "...              ...   ...         ...           ...  \n",
       "27503              0   317           0             0  \n",
       "27504              0   412           0             0  \n",
       "27505              0   434           0             0  \n",
       "27506              1   465           0             1  \n",
       "27507              0   139           0             0  \n",
       "\n",
       "[27508 rows x 8 columns]"
      ]
     },
     "execution_count": 24,
     "metadata": {},
     "output_type": "execute_result"
    }
   ],
   "source": [
    "klast_df"
   ]
  },
  {
   "cell_type": "code",
   "execution_count": 25,
   "metadata": {},
   "outputs": [
    {
     "data": {
      "text/plain": [
       "array([3, 0, 6, 2, 1, 4, 5], dtype=int64)"
      ]
     },
     "execution_count": 25,
     "metadata": {},
     "output_type": "execute_result"
    }
   ],
   "source": [
    "klast_df['OverallScore'].unique()"
   ]
  },
  {
   "cell_type": "markdown",
   "metadata": {},
   "source": [
    "#### Приведенная выше оценка ясно показывает нам, что клиенты с 6 баллами - наши лучшие клиенты, а 0 - худшие.\n",
    "#### Для простоты лучше назвать эти оценки:\n",
    "\n",
    "#### От 0 до 1: низкое значение\n",
    "#### От 2 до 3: среднее значение\n",
    "#### 4+: высокое значение\n",
    "#### Применим это имя к нашей базе: "
   ]
  },
  {
   "cell_type": "code",
   "execution_count": 26,
   "metadata": {},
   "outputs": [
    {
     "name": "stderr",
     "output_type": "stream",
     "text": [
      "C:\\Users\\User\\Anaconda3\\lib\\site-packages\\ipykernel_launcher.py:1: SettingWithCopyWarning: \n",
      "A value is trying to be set on a copy of a slice from a DataFrame.\n",
      "Try using .loc[row_indexer,col_indexer] = value instead\n",
      "\n",
      "See the caveats in the documentation: https://pandas.pydata.org/pandas-docs/stable/user_guide/indexing.html#returning-a-view-versus-a-copy\n",
      "  \"\"\"Entry point for launching an IPython kernel.\n",
      "C:\\Users\\User\\Anaconda3\\lib\\site-packages\\pandas\\core\\indexing.py:1765: SettingWithCopyWarning: \n",
      "A value is trying to be set on a copy of a slice from a DataFrame.\n",
      "Try using .loc[row_indexer,col_indexer] = value instead\n",
      "\n",
      "See the caveats in the documentation: https://pandas.pydata.org/pandas-docs/stable/user_guide/indexing.html#returning-a-view-versus-a-copy\n",
      "  isetter(loc, value)\n",
      "C:\\Users\\User\\Anaconda3\\lib\\site-packages\\pandas\\core\\indexing.py:1765: SettingWithCopyWarning: \n",
      "A value is trying to be set on a copy of a slice from a DataFrame.\n",
      "Try using .loc[row_indexer,col_indexer] = value instead\n",
      "\n",
      "See the caveats in the documentation: https://pandas.pydata.org/pandas-docs/stable/user_guide/indexing.html#returning-a-view-versus-a-copy\n",
      "  isetter(loc, value)\n"
     ]
    }
   ],
   "source": [
    "klast_df['Segment'] = 'Low-Value'\n",
    "klast_df.loc[klast_df['OverallScore']>1,'Segment'] = 'Mid-Value' \n",
    "klast_df.loc[klast_df['OverallScore']>3,'Segment'] = 'High-Value' "
   ]
  },
  {
   "cell_type": "code",
   "execution_count": 27,
   "metadata": {},
   "outputs": [
    {
     "data": {
      "text/html": [
       "<div>\n",
       "<style scoped>\n",
       "    .dataframe tbody tr th:only-of-type {\n",
       "        vertical-align: middle;\n",
       "    }\n",
       "\n",
       "    .dataframe tbody tr th {\n",
       "        vertical-align: top;\n",
       "    }\n",
       "\n",
       "    .dataframe thead th {\n",
       "        text-align: right;\n",
       "    }\n",
       "</style>\n",
       "<table border=\"1\" class=\"dataframe\">\n",
       "  <thead>\n",
       "    <tr style=\"text-align: right;\">\n",
       "      <th></th>\n",
       "      <th>Id_client</th>\n",
       "      <th>Checks_LastMonthqnt</th>\n",
       "      <th>ChecksCluster</th>\n",
       "      <th>Total_amount</th>\n",
       "      <th>AmountCluster</th>\n",
       "      <th>qty</th>\n",
       "      <th>qtyCluster</th>\n",
       "      <th>OverallScore</th>\n",
       "      <th>Segment</th>\n",
       "    </tr>\n",
       "  </thead>\n",
       "  <tbody>\n",
       "    <tr>\n",
       "      <th>0</th>\n",
       "      <td>5743</td>\n",
       "      <td>12</td>\n",
       "      <td>1</td>\n",
       "      <td>12398.51</td>\n",
       "      <td>1</td>\n",
       "      <td>1114</td>\n",
       "      <td>1</td>\n",
       "      <td>3</td>\n",
       "      <td>Mid-Value</td>\n",
       "    </tr>\n",
       "    <tr>\n",
       "      <th>1</th>\n",
       "      <td>5756</td>\n",
       "      <td>15</td>\n",
       "      <td>1</td>\n",
       "      <td>12959.65</td>\n",
       "      <td>1</td>\n",
       "      <td>1024</td>\n",
       "      <td>1</td>\n",
       "      <td>3</td>\n",
       "      <td>Mid-Value</td>\n",
       "    </tr>\n",
       "    <tr>\n",
       "      <th>2</th>\n",
       "      <td>5781</td>\n",
       "      <td>2</td>\n",
       "      <td>0</td>\n",
       "      <td>2963.88</td>\n",
       "      <td>0</td>\n",
       "      <td>170</td>\n",
       "      <td>0</td>\n",
       "      <td>0</td>\n",
       "      <td>Low-Value</td>\n",
       "    </tr>\n",
       "    <tr>\n",
       "      <th>3</th>\n",
       "      <td>5801</td>\n",
       "      <td>35</td>\n",
       "      <td>2</td>\n",
       "      <td>19676.34</td>\n",
       "      <td>2</td>\n",
       "      <td>2486</td>\n",
       "      <td>2</td>\n",
       "      <td>6</td>\n",
       "      <td>High-Value</td>\n",
       "    </tr>\n",
       "    <tr>\n",
       "      <th>4</th>\n",
       "      <td>5808</td>\n",
       "      <td>3</td>\n",
       "      <td>0</td>\n",
       "      <td>2482.24</td>\n",
       "      <td>0</td>\n",
       "      <td>255</td>\n",
       "      <td>0</td>\n",
       "      <td>0</td>\n",
       "      <td>Low-Value</td>\n",
       "    </tr>\n",
       "  </tbody>\n",
       "</table>\n",
       "</div>"
      ],
      "text/plain": [
       "   Id_client  Checks_LastMonthqnt  ChecksCluster  Total_amount  AmountCluster  \\\n",
       "0       5743                   12              1      12398.51              1   \n",
       "1       5756                   15              1      12959.65              1   \n",
       "2       5781                    2              0       2963.88              0   \n",
       "3       5801                   35              2      19676.34              2   \n",
       "4       5808                    3              0       2482.24              0   \n",
       "\n",
       "    qty  qtyCluster  OverallScore     Segment  \n",
       "0  1114           1             3   Mid-Value  \n",
       "1  1024           1             3   Mid-Value  \n",
       "2   170           0             0   Low-Value  \n",
       "3  2486           2             6  High-Value  \n",
       "4   255           0             0   Low-Value  "
      ]
     },
     "execution_count": 27,
     "metadata": {},
     "output_type": "execute_result"
    }
   ],
   "source": [
    "klast_df.head()"
   ]
  },
  {
   "cell_type": "markdown",
   "metadata": {},
   "source": [
    "#### Посмотрим средние значения по получившемуся скорингу"
   ]
  },
  {
   "cell_type": "code",
   "execution_count": 28,
   "metadata": {},
   "outputs": [
    {
     "name": "stderr",
     "output_type": "stream",
     "text": [
      "C:\\Users\\User\\Anaconda3\\lib\\site-packages\\ipykernel_launcher.py:1: FutureWarning: Indexing with multiple keys (implicitly converted to a tuple of keys) will be deprecated, use a list instead.\n",
      "  \"\"\"Entry point for launching an IPython kernel.\n"
     ]
    },
    {
     "data": {
      "text/html": [
       "<div>\n",
       "<style scoped>\n",
       "    .dataframe tbody tr th:only-of-type {\n",
       "        vertical-align: middle;\n",
       "    }\n",
       "\n",
       "    .dataframe tbody tr th {\n",
       "        vertical-align: top;\n",
       "    }\n",
       "\n",
       "    .dataframe thead th {\n",
       "        text-align: right;\n",
       "    }\n",
       "</style>\n",
       "<table border=\"1\" class=\"dataframe\">\n",
       "  <thead>\n",
       "    <tr style=\"text-align: right;\">\n",
       "      <th></th>\n",
       "      <th>Checks_LastMonthqnt</th>\n",
       "      <th>Total_amount</th>\n",
       "      <th>qty</th>\n",
       "    </tr>\n",
       "    <tr>\n",
       "      <th>OverallScore</th>\n",
       "      <th></th>\n",
       "      <th></th>\n",
       "      <th></th>\n",
       "    </tr>\n",
       "  </thead>\n",
       "  <tbody>\n",
       "    <tr>\n",
       "      <th>0</th>\n",
       "      <td>3.750368</td>\n",
       "      <td>5029.044129</td>\n",
       "      <td>361.399338</td>\n",
       "    </tr>\n",
       "    <tr>\n",
       "      <th>1</th>\n",
       "      <td>6.958821</td>\n",
       "      <td>7898.343986</td>\n",
       "      <td>550.891198</td>\n",
       "    </tr>\n",
       "    <tr>\n",
       "      <th>2</th>\n",
       "      <td>7.855841</td>\n",
       "      <td>10129.925472</td>\n",
       "      <td>805.614747</td>\n",
       "    </tr>\n",
       "    <tr>\n",
       "      <th>3</th>\n",
       "      <td>10.296970</td>\n",
       "      <td>12717.092081</td>\n",
       "      <td>987.668013</td>\n",
       "    </tr>\n",
       "    <tr>\n",
       "      <th>4</th>\n",
       "      <td>13.984621</td>\n",
       "      <td>14954.698381</td>\n",
       "      <td>1267.284877</td>\n",
       "    </tr>\n",
       "    <tr>\n",
       "      <th>5</th>\n",
       "      <td>17.309946</td>\n",
       "      <td>16692.620245</td>\n",
       "      <td>1609.546322</td>\n",
       "    </tr>\n",
       "    <tr>\n",
       "      <th>6</th>\n",
       "      <td>27.954861</td>\n",
       "      <td>17745.674340</td>\n",
       "      <td>1815.013889</td>\n",
       "    </tr>\n",
       "  </tbody>\n",
       "</table>\n",
       "</div>"
      ],
      "text/plain": [
       "              Checks_LastMonthqnt  Total_amount          qty\n",
       "OverallScore                                                \n",
       "0                        3.750368   5029.044129   361.399338\n",
       "1                        6.958821   7898.343986   550.891198\n",
       "2                        7.855841  10129.925472   805.614747\n",
       "3                       10.296970  12717.092081   987.668013\n",
       "4                       13.984621  14954.698381  1267.284877\n",
       "5                       17.309946  16692.620245  1609.546322\n",
       "6                       27.954861  17745.674340  1815.013889"
      ]
     },
     "execution_count": 28,
     "metadata": {},
     "output_type": "execute_result"
    }
   ],
   "source": [
    "klast_df.groupby('OverallScore')['Checks_LastMonthqnt','Total_amount','qty'].mean()"
   ]
  },
  {
   "cell_type": "markdown",
   "metadata": {},
   "source": [
    "#### Посмотрим, как наши сегменты распределены по точечной диаграмме: Total_amount-qty, Checks_LastMonthqnt-qty, Checks_LastMonthqnt-Total_amount"
   ]
  },
  {
   "cell_type": "code",
   "execution_count": 29,
   "metadata": {},
   "outputs": [
    {
     "data": {
      "text/plain": [
       "Text(0.5, 1.0, 'Total_amount-qty')"
      ]
     },
     "execution_count": 29,
     "metadata": {},
     "output_type": "execute_result"
    },
    {
     "data": {
      "image/png": "[encoded data removed]",
      "text/plain": [
       "<Figure size 864x504 with 1 Axes>"
      ]
     },
     "metadata": {},
     "output_type": "display_data"
    }
   ],
   "source": [
    "plt.scatter(\n",
    "    x=klast_df.query(\"Segment == 'Low-Value'\")['Total_amount'],\n",
    "    y=klast_df.query(\"Segment == 'Low-Value'\")['qty'],\n",
    "    s=1,\n",
    "    c='green'\n",
    ")\n",
    "plt.scatter(\n",
    "    x=klast_df.query(\"Segment == 'Mid-Value'\")['Total_amount'],\n",
    "    y=klast_df.query(\"Segment == 'Mid-Value'\")['qty'],\n",
    "    s=1,\n",
    "    c='blue'\n",
    ")\n",
    "plt.scatter(\n",
    "    x=klast_df.query(\"Segment == 'High-Value'\")['Total_amount'],\n",
    "    y=klast_df.query(\"Segment == 'High-Value'\")['qty'],\n",
    "    s=1,\n",
    "    c='red'\n",
    ")\n",
    "plt.title('Total_amount-qty')"
   ]
  },
  {
   "cell_type": "code",
   "execution_count": 30,
   "metadata": {},
   "outputs": [
    {
     "data": {
      "text/plain": [
       "Text(0.5, 1.0, 'Checks_LastMonth-qty')"
      ]
     },
     "execution_count": 30,
     "metadata": {},
     "output_type": "execute_result"
    },
    {
     "data": {
      "image/png": "[encoded data removed]",
      "text/plain": [
       "<Figure size 864x504 with 1 Axes>"
      ]
     },
     "metadata": {},
     "output_type": "display_data"
    }
   ],
   "source": [
    "plt.scatter(\n",
    "    x=klast_df.query(\"Segment == 'Low-Value'\")['Checks_LastMonthqnt'],\n",
    "    y=klast_df.query(\"Segment == 'Low-Value'\")['qty'],\n",
    "    s=1,\n",
    "    c='green'\n",
    ")\n",
    "plt.scatter(\n",
    "    x=klast_df.query(\"Segment == 'Mid-Value'\")['Checks_LastMonthqnt'],\n",
    "    y=klast_df.query(\"Segment == 'Mid-Value'\")['qty'],\n",
    "    s=1,\n",
    "    c='blue'\n",
    ")\n",
    "plt.scatter(\n",
    "    x=klast_df.query(\"Segment == 'High-Value'\")['Checks_LastMonthqnt'],\n",
    "    y=klast_df.query(\"Segment == 'High-Value'\")['qty'],\n",
    "    s=1,\n",
    "    c='red'\n",
    ")\n",
    "plt.title('Checks_LastMonth-qty')"
   ]
  },
  {
   "cell_type": "code",
   "execution_count": 31,
   "metadata": {},
   "outputs": [
    {
     "data": {
      "text/plain": [
       "Text(0.5, 1.0, 'Checks_LastMonth-Total_amount')"
      ]
     },
     "execution_count": 31,
     "metadata": {},
     "output_type": "execute_result"
    },
    {
     "data": {
      "image/png": "[encoded data removed]",
      "text/plain": [
       "<Figure size 864x504 with 1 Axes>"
      ]
     },
     "metadata": {},
     "output_type": "display_data"
    }
   ],
   "source": [
    "plt.scatter(\n",
    "    x=klast_df.query(\"Segment == 'Low-Value'\")['Checks_LastMonthqnt'],\n",
    "    y=klast_df.query(\"Segment == 'Low-Value'\")['Total_amount'],\n",
    "    s=1,\n",
    "    c='green'\n",
    ")\n",
    "plt.scatter(\n",
    "    x=klast_df.query(\"Segment == 'Mid-Value'\")['Checks_LastMonthqnt'],\n",
    "    y=klast_df.query(\"Segment == 'Mid-Value'\")['Total_amount'],\n",
    "    s=1,\n",
    "    c='blue'\n",
    ")\n",
    "plt.scatter(\n",
    "    x=klast_df.query(\"Segment == 'High-Value'\")['Checks_LastMonthqnt'],\n",
    "    y=klast_df.query(\"Segment == 'High-Value'\")['Total_amount'],\n",
    "    s=1,\n",
    "    c='red'\n",
    ")\n",
    "plt.title('Checks_LastMonth-Total_amount')"
   ]
  },
  {
   "cell_type": "markdown",
   "metadata": {},
   "source": [
    "На основании наших сегментов можно:\n",
    "\n",
    "1) Высокое значение: улучшить удержание\n",
    "\n",
    "2) Среднее значение: улучшение удержания + увеличение частоты\n",
    "\n",
    "3) Низкое значение: увеличение частоты\n"
   ]
  },
  {
   "cell_type": "markdown",
   "metadata": {},
   "source": [
    "### Так как задание творческое - это лишь одно из возможных вариантов сегментации. Данных много, каждые нужно посмотреть, почистить от выбросов и лишних шумов.  Сегментацию необходимо проводить в зависимости от преследуемой цели."
   ]
  },
  {
   "cell_type": "code",
   "execution_count": null,
   "metadata": {},
   "outputs": [],
   "source": []
  },
  {
   "cell_type": "code",
   "execution_count": null,
   "metadata": {},
   "outputs": [],
   "source": []
  },
  {
   "cell_type": "code",
   "execution_count": null,
   "metadata": {},
   "outputs": [],
   "source": []
  },
  {
   "cell_type": "code",
   "execution_count": null,
   "metadata": {},
   "outputs": [],
   "source": []
  },
  {
   "cell_type": "code",
   "execution_count": null,
   "metadata": {},
   "outputs": [],
   "source": []
  },
  {
   "cell_type": "code",
   "execution_count": null,
   "metadata": {},
   "outputs": [],
   "source": []
  }
 ],
 "metadata": {
  "kernelspec": {
   "display_name": "Python 3",
   "language": "python",
   "name": "python3"
  },
  "language_info": {
   "codemirror_mode": {
    "name": "ipython",
    "version": 3
   },
   "file_extension": ".py",
   "mimetype": "text/x-python",
   "name": "python",
   "nbconvert_exporter": "python",
   "pygments_lexer": "ipython3",
   "version": "3.7.9"
  }
 },
 "nbformat": 4,
 "nbformat_minor": 4
}
